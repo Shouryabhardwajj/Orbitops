{
 "cells": [
  {
   "cell_type": "markdown",
   "metadata": {},
   "source": [
    "# Forest Sentinal AI: Yellowstone Fire Recovery Analysis"
   ]
  },
  {
   "cell_type": "markdown",
   "metadata": {},
   "source": [
    "## Project Overview\n",
    "###### In 1988, Yellowstone National Park experienced the largest wildfire in its history, burning nearly 800,000 acres. This project investigates the recovery of the park's ecosystems using satellite imagery and AI-driven analysis.\n",
    "###### \n",
    "###### Our goal is to assess vegetation recovery, land cover changes, and the long-term ecological impacts from the fires. The insights gained will inform future wildfire recovery efforts and help us understand the ecological processes in large-scale ecosystems.\n"
   ]
  },
  {
   "cell_type": "markdown",
   "metadata": {},
   "source": [
    "## Objectives\n",
    "###### - Acquire and preprocess Landsat satellite imagery of Yellowstone National Park before and after the 1988 fires.\n",
    "###### - Analyze changes in vegetation health and land cover using indices such as NDVI (Normalized Difference Vegetation Index) and NBR (Normalized Burn Ratio).\n",
    "###### - Assess the long-term impact of the fires on different vegetation types and land cover classes within the park.\n",
    "###### - Contribute to the understanding of wildfire recovery processes in large-scale ecosystems.\n"
   ]
  },
  {
   "cell_type": "markdown",
   "metadata": {},
   "source": [
    "### 1988 Yellowstone Fire\n",
    "![1988 Yellosstone Fires](https://yellowstone4089777776.blob.core.windows.net/azureml-blobstore-2f4323bb-4f70-4eb7-82ed-5fcdbfcf6f15/UI/2024-12-01_014505_UTC/1.png)"
   ]
  },
  {
   "cell_type": "markdown",
   "metadata": {},
   "source": [
    "## Data Acquisition and Preprocessing"
   ]
  },
  {
   "cell_type": "markdown",
   "metadata": {},
   "source": [
    "### Data Sources\n",
    "###### **Earth Explorer**: [USGS Earth Explorer](https://earthexplorer.usgs.gov/)\n",
    "###### For this analysis, we will use **Landsat satellite imagery** from the **USGS Earth Explorer** platform to track vegetation recovery and land cover changes in **Yellowstone National Park** following the 1988 fires. The imagery provides multi-temporal datasets, allowing us to analyze evolving post-fire conditions. "
   ]
  },
  {
   "cell_type": "markdown",
   "metadata": {},
   "source": [
    "### Data Paths:\n",
    "1. **Yellowstone 1988 Fire Imagery (1st set)**\n",
    "   - Path: `UI/2024-11-27_053807_UTC/11022024-195826-774-20241127T044746Z-001/`\n",
    "   \n",
    "2. **Yellowstone 1988 Fire Imagery (2nd set)**\n",
    "   - Path: `UI/2024-11-20_143111_UTC/11022024-195823-636-20241119T193544Z-001/`"
   ]
  },
  {
   "cell_type": "markdown",
   "metadata": {},
   "source": [
    "## Installing Required Packages\n",
    "###### \n",
    "###### The most common packages for geospatial analysis with Python are:\n",
    "###### \n",
    "###### rasterio — for reading and writing geospatial raster data\n",
    "###### geopandas — for working with vector data\n",
    "###### matplotlib — for plotting\n",
    "###### numpy — for numerical operations\n",
    "###### scikit-learn — for machine learning tasks (especially when dealing with classification or regression models)\n",
    "###### pandas — for general data manipulation\n",
    "###### azureml-core — for working with Azure Machine Learning services"
   ]
  },
  {
   "cell_type": "code",
   "execution_count": null,
   "metadata": {},
   "outputs": [
    {
     "name": "stdout",
     "output_type": "stream",
     "text": [
      "Error while loading conda entry point: conda-libmamba-solver (libarchive.so.20: cannot open shared object file: No such file or directory)\n",
      "Collecting package metadata (current_repodata.json): ...working... done\n",
      "Solving environment: ...working... done\n",
      "\n",
      "# All requested packages already installed.\n",
      "\n"
     ]
    }
   ],
   "source": [
    "!conda install -c conda-forge rasterio geopandas matplotlib numpy pandas scikit-learn --quiet --yes\n",
    "\n"
   ]
  },
  {
   "cell_type": "code",
   "execution_count": null,
   "metadata": {},
   "outputs": [
    {
     "name": "stdout",
     "output_type": "stream",
     "text": [
      "Collecting rasterio\n",
      "  Using cached rasterio-1.4.2-cp310-cp310-manylinux_2_17_x86_64.manylinux2014_x86_64.whl (22.2 MB)\n",
      "Requirement already satisfied: certifi in /anaconda/envs/azureml_py38/lib/python3.10/site-packages (from rasterio) (2024.8.30)\n",
      "Requirement already satisfied: pyparsing in /anaconda/envs/azureml_py38/lib/python3.10/site-packages (from rasterio) (3.1.2)\n",
      "Requirement already satisfied: affine in /anaconda/envs/azureml_py38/lib/python3.10/site-packages (from rasterio) (2.4.0)\n",
      "Requirement already satisfied: numpy>=1.24 in /anaconda/envs/azureml_py38/lib/python3.10/site-packages (from rasterio) (1.26.4)\n",
      "Requirement already satisfied: cligj>=0.5 in /anaconda/envs/azureml_py38/lib/python3.10/site-packages (from rasterio) (0.7.2)\n",
      "Requirement already satisfied: attrs in /anaconda/envs/azureml_py38/lib/python3.10/site-packages (from rasterio) (24.2.0)\n",
      "Requirement already satisfied: click-plugins in /anaconda/envs/azureml_py38/lib/python3.10/site-packages (from rasterio) (1.1.1)\n",
      "Requirement already satisfied: click>=4.0 in /anaconda/envs/azureml_py38/lib/python3.10/site-packages (from rasterio) (8.1.7)\n",
      "Installing collected packages: rasterio\n",
      "Successfully installed rasterio-1.4.2\n"
     ]
    }
   ],
   "source": [
    "!pip install rasterio"
   ]
  },
  {
   "cell_type": "code",
   "execution_count": null,
   "metadata": {},
   "outputs": [
    {
     "name": "stdout",
     "output_type": "stream",
     "text": [
      "Requirement already satisfied: geopandas in /anaconda/envs/azureml_py38/lib/python3.10/site-packages (1.0.1)\r\n",
      "Requirement already satisfied: pyogrio>=0.7.2 in /anaconda/envs/azureml_py38/lib/python3.10/site-packages (from geopandas) (0.10.0)\r\n",
      "Requirement already satisfied: packaging in /anaconda/envs/azureml_py38/lib/python3.10/site-packages (from geopandas) (24.1)\r\n",
      "Requirement already satisfied: shapely>=2.0.0 in /anaconda/envs/azureml_py38/lib/python3.10/site-packages (from geopandas) (2.0.6)\r\n",
      "Requirement already satisfied: numpy>=1.22 in /anaconda/envs/azureml_py38/lib/python3.10/site-packages (from geopandas) (1.26.4)\r\n",
      "Requirement already satisfied: pandas>=1.4.0 in /anaconda/envs/azureml_py38/lib/python3.10/site-packages (from geopandas) (2.2.3)\r\n",
      "Requirement already satisfied: pyproj>=3.3.0 in /anaconda/envs/azureml_py38/lib/python3.10/site-packages (from geopandas) (3.7.0)\r\n",
      "Requirement already satisfied: tzdata>=2022.7 in /anaconda/envs/azureml_py38/lib/python3.10/site-packages (from pandas>=1.4.0->geopandas) (2024.1)\r\n",
      "Requirement already satisfied: pytz>=2020.1 in /anaconda/envs/azureml_py38/lib/python3.10/site-packages (from pandas>=1.4.0->geopandas) (2022.5)\r\n",
      "Requirement already satisfied: python-dateutil>=2.8.2 in /anaconda/envs/azureml_py38/lib/python3.10/site-packages (from pandas>=1.4.0->geopandas) (2.9.0.post0)\r\n",
      "Requirement already satisfied: certifi in /anaconda/envs/azureml_py38/lib/python3.10/site-packages (from pyogrio>=0.7.2->geopandas) (2024.8.30)\r\n",
      "Requirement already satisfied: six>=1.5 in /anaconda/envs/azureml_py38/lib/python3.10/site-packages (from python-dateutil>=2.8.2->pandas>=1.4.0->geopandas) (1.16.0)\r\n"
     ]
    }
   ],
   "source": [
    "!pip install geopandas"
   ]
  },
  {
   "cell_type": "markdown",
   "metadata": {},
   "source": [
    "## Data Exploration "
   ]
  },
  {
   "cell_type": "markdown",
   "metadata": {},
   "source": [
    "### Burn Scars - 1988 Post-Fire\n",
    "\n",
    "![1994 Burn Scars](https://yellowstone4089777776.blob.core.windows.net/azureml-blobstore-2f4323bb-4f70-4eb7-82ed-5fcdbfcf6f15/UI/2024-12-01_014505_UTC/Screenshot%202024-11-30%20070240.png)\n"
   ]
  },
  {
   "cell_type": "code",
   "execution_count": null,
   "metadata": {},
   "outputs": [
    {
     "name": "stdout",
     "output_type": "stream",
     "text": [
      "{'infer_column_types': 'False', 'activity': 'download'}\n",
      "{'infer_column_types': 'False', 'activity': 'download', 'activityApp': 'FileDataset'}\n"
     ]
    }
   ],
   "source": [
    "from azureml.core import Workspace, Dataset\n",
    "\n",
    "# Load the workspace configuration from the config file\n",
    "ws = Workspace.from_config()\n",
    "\n",
    "# Get the default datastore\n",
    "datastore = ws.get_default_datastore()\n",
    "\n",
    "# Specify the path to the dataset (replace with your actual path)\n",
    "dataset_path = 'UI/2024-11-27_053807_UTC/11022024-195826-774-20241127T044746Z-001/'\n",
    "\n",
    "# Create the Dataset object\n",
    "landsat_dataset = Dataset.File.from_files(path=(datastore, dataset_path))\n",
    "\n",
    "# Download the dataset locally\n",
    "landsat_dataset.download(target_path='./landsat_data', overwrite=True)\n"
   ]
  },
  {
   "cell_type": "code",
   "execution_count": null,
   "metadata": {},
   "outputs": [],
   "source": [
    "import rasterio\n",
    "import matplotlib.pyplot as plt\n",
    "\n",
    "# File paths for the NDVI images\n",
    "ndvi_image1_path = \"path/to/ndvi_image1.tif\"\n",
    "ndvi_image2_path = \"path/to/ndvi_image2.tif\"\n",
    "\n",
    "# Load the NDVI images\n",
    "with rasterio.open(ndvi_image1_path) as src1:\n",
    "    ndvi_image1 = src1.read(1)\n",
    "\n",
    "with rasterio.open(ndvi_image2_path) as src2:\n",
    "    ndvi_image2 = src2.read(1)\n",
    "\n",
    "# Visualize the NDVI images\n",
    "plt.figure(figsize=(12, 6))\n",
    "\n",
    "plt.subplot(1, 2, 1)\n",
    "plt.title(\"NDVI Image 1\")\n",
    "plt.imshow(ndvi_image1, cmap=\"YlGn\")\n",
    "plt.colorbar(label=\"NDVI\")\n",
    "\n",
    "plt.subplot(1, 2, 2)\n",
    "plt.title(\"NDVI Image 2\")\n",
    "plt.imshow(ndvi_image2, cmap=\"YlGn\")\n",
    "plt.colorbar(label=\"NDVI\")\n",
    "\n",
    "plt.tight_layout()\n",
    "plt.show()\n"
   ]
  },
  {
   "cell_type": "markdown",
   "metadata": {},
   "source": [
    "### NDVI Study Area \n",
    "![NDVI Study Area](https://yellowstone4089777776.blob.core.windows.net/azureml-blobstore-2f4323bb-4f70-4eb7-82ed-5fcdbfcf6f15/UI/2024-12-01_014958_UTC/Screenshot%202024-11-30%20175404.png)"
   ]
  },
  {
   "cell_type": "code",
   "execution_count": null,
   "metadata": {},
   "outputs": [],
   "source": [
    "from rasterio.transform import from_origin\n",
    "\n",
    "# Define the metadata for the output image\n",
    "output_path = \"ndvi_difference.tif\"\n",
    "transform = src1.transform  # Use the transform from the original image\n",
    "\n",
    "# Save the NDVI difference as a GeoTIFF\n",
    "with rasterio.open(\n",
    "    output_path,\n",
    "    \"w\",\n",
    "    driver=\"GTiff\",\n",
    "    height=ndvi_diff.shape[0],\n",
    "    width=ndvi_diff.shape[1],\n",
    "    count=1,\n",
    "    dtype=ndvi_diff.dtype,\n",
    "    crs=src1.crs,\n",
    "    transform=transform,\n",
    ") as dst:\n",
    "    dst.write(ndvi_diff, 1)\n",
    "\n",
    "print(f\"NDVI difference saved to {output_path}\")"
   ]
  },
  {
   "cell_type": "markdown",
   "metadata": {},
   "source": [
    "### NDVI 2020 \n",
    "\n",
    "![NDVI 2020 ](https://yellowstone4089777776.blob.core.windows.net/azureml-blobstore-2f4323bb-4f70-4eb7-82ed-5fcdbfcf6f15/UI/2024-12-01_014958_UTC/Screenshot%202024-11-30%20180020.png)"
   ]
  },
  {
   "cell_type": "markdown",
   "metadata": {},
   "source": [
    "### NDVI 2024\n",
    "\n",
    "![NDVI 2024](https://yellowstone4089777776.blob.core.windows.net/azureml-blobstore-2f4323bb-4f70-4eb7-82ed-5fcdbfcf6f15/UI/2024-12-01_014958_UTC/Screenshot%202024-11-30%20175445.png)\n",
    "\n"
   ]
  },
  {
   "cell_type": "code",
   "execution_count": null,
   "metadata": {},
   "outputs": [],
   "source": [
    "from azure.storage.blob import BlobServiceClient, BlobClient, ContainerClient\n",
    "\n",
    "# Set up the connection to Blob Storage\n",
    "blob_service_client = BlobServiceClient.from_connection_string(\"<your_connection_string>\")\n",
    "\n",
    "# Specify the container and blob\n",
    "container_name = \"<your_container_name>\"\n",
    "blob_name = \"<your_blob_name>\"\n",
    "\n",
    "# Create a BlobClient\n",
    "blob_client = blob_service_client.get_blob_client(container=container_name, blob=blob_name)\n",
    "\n",
    "# Download the blob to a local file\n",
    "with open(\"./local_filename\", \"wb\") as download_file:\n",
    "    download_file.write(blob_client.download_blob().readall())\n"
   ]
  },
  {
   "cell_type": "code",
   "execution_count": null,
   "metadata": {},
   "outputs": [],
   "source": [
    "import numpy as np\n",
    "\n",
    "# Calculate the difference between the two images\n",
    "ndvi_diff = ndvi_image2 - ndvi_image1\n",
    "\n",
    "# Visualize the difference\n",
    "plt.figure(figsize=(8, 6))\n",
    "plt.title(\"NDVI Difference\")\n",
    "plt.imshow(ndvi_diff, cmap=\"RdYlGn\")\n",
    "plt.colorbar(label=\"NDVI Difference\")\n",
    "plt.show()\n"
   ]
  },
  {
   "cell_type": "code",
   "execution_count": null,
   "metadata": {},
   "outputs": [],
   "source": [
    "# Define a threshold for significant changes\n",
    "threshold = 0.2  # Change this value based on your analysis\n",
    "\n",
    "# Create a binary mask for significant changes\n",
    "significant_changes = np.abs(ndvi_diff) > threshold\n",
    "\n",
    "# Visualize the significant changes\n",
    "plt.figure(figsize=(8, 6))\n",
    "plt.title(\"Significant Changes in NDVI\")\n",
    "plt.imshow(significant_changes, cmap=\"gray\")\n",
    "plt.colorbar(label=\"Significant Change\")\n",
    "plt.show()\n"
   ]
  },
  {
   "cell_type": "markdown",
   "metadata": {},
   "source": [
    "### NDVI Comparative Analysis \n",
    "\n",
    "#### Tree Growth Between 2020 and 2024 \n",
    "\n",
    "![NDVI Comparative Analysis](https://yellowstone4089777776.blob.core.windows.net/azureml-blobstore-2f4323bb-4f70-4eb7-82ed-5fcdbfcf6f15/UI/2024-12-01_014958_UTC/Screenshot%202024-11-30%20180118.png)\n",
    "\n"
   ]
  },
  {
   "cell_type": "markdown",
   "metadata": {},
   "source": [
    "## Conclusion\n",
    "\n",
    "### Yellowstone Fire Recovery Analysis\n",
    "The 1988 Yellowstone Fires represent a landmark event, burning nearly 800,000 acres and raising critical questions about the long-term resilience of ecosystems. Through this project, we used satellite imagery and advanced AI/ML methods to analyze vegetation recovery, providing actionable insights into wildfire impact and recovery processes.\n",
    "\n",
    "### Key Takeaways\n",
    "- **Long-Term Recovery:** Ecosystem recovery following wildfires is a prolonged process that requires consistent monitoring to inform restoration and management.\n",
    "- **Actionable Insights:** NDVI and NBR analyses, powered by AI/ML, have proven effective in assessing vegetation health and fire severity.\n",
    "- **Climate Change Impact:** The increasing frequency and severity of wildfires, driven by climate change, make proactive monitoring and restoration strategies more crucial than ever.\n",
    "- **Scalable Solutions:** This approach can be replicated across other ecosystems to support wildfire recovery and resilience efforts globally.\n",
    "\n",
    "### Future Directions\n",
    "To build on this prototype, potential next steps include:\n",
    "- **Enhanced Monitoring:** Expanding the system for real-time monitoring and incorporating predictive modeling capabilities.\n",
    "- **Broader Application:** Applying these techniques to other wildfire-prone regions and diverse ecosystems.\n",
    "- **Refined Insights:** Integrating additional data sources, such as soil moisture and precipitation data, for a more comprehensive analysis.\n",
    "\n",
    "### Final Thoughts\n",
    "This project highlights the transformative potential of integrating geospatial technologies with AI/ML for ecological analysis. By addressing the challenges posed by wildfires and climate change, this framework contributes to global conservation and recovery efforts.\n"
   ]
  },
  {
   "cell_type": "markdown",
   "metadata": {},
   "source": [
    "\n"
   ]
  }
 ],
 "metadata": {
  "language_info": {
   "name": "python"
  }
 },
 "nbformat": 4,
 "nbformat_minor": 2
}
